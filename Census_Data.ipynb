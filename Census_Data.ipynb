{
 "cells": [
  {
   "cell_type": "code",
   "execution_count": 1,
   "metadata": {},
   "outputs": [
    {
     "name": "stderr",
     "output_type": "stream",
     "text": [
      "C:\\Users\\fedo3\\AppData\\Local\\Temp\\ipykernel_13940\\2665262675.py:8: DtypeWarning: Columns (17,21) have mixed types. Specify dtype option on import or set low_memory=False.\n",
      "  df = pd.read_csv(file_path)\n"
     ]
    }
   ],
   "source": [
    "import pandas as pd\n",
    "import requests\n",
    "import re\n",
    "from api_key import census_api_key\n",
    "\n",
    "# Load client data\n",
    "file_path = \"./resources/Cumulative Count of Clients-Final.csv\"\n",
    "df = pd.read_csv(file_path)\n",
    "\n",
    "# Ensure column names are stripped of whitespace\n",
    "df.rename(columns=lambda x: x.strip(), inplace=True)"
   ]
  },
  {
   "cell_type": "code",
   "execution_count": 2,
   "metadata": {},
   "outputs": [
    {
     "name": "stdout",
     "output_type": "stream",
     "text": [
      "Index(['Client Number/ID', 'Participation Record ID', 'Date of Birth',\n",
      "       'Age at Start of Reporting Period', 'Age Today',\n",
      "       'Is this a caregiver or client profile?', 'Gender', 'Ethnicity',\n",
      "       'Date of Participation', 'Program Location', 'Annual Family Income_x',\n",
      "       'Military Service', 'Date of Exit', 'Education',\n",
      "       'College or Trade School Name/Major/Grad Date:', 'Zip', 'Program',\n",
      "       'Precinct', 'City Council District', 'Program Location.1',\n",
      "       'Type of Participation', 'Current School District', 'Therapist',\n",
      "       'Annual Family Income_y', 'Min_Income', 'Max_Income',\n",
      "       'Total Population', 'Poverty Rate', 'White', 'Black', 'Hispanic',\n",
      "       'Extra_Column'],\n",
      "      dtype='object')\n"
     ]
    }
   ],
   "source": [
    "print(df.columns)"
   ]
  },
  {
   "cell_type": "code",
   "execution_count": 6,
   "metadata": {},
   "outputs": [
    {
     "name": "stdout",
     "output_type": "stream",
     "text": [
      "   Client Number/ID  Participation Record ID Date of Birth  \\\n",
      "0               169                   426652    12/30/1974   \n",
      "1               169                   426652    12/30/1974   \n",
      "2               169                   426652    12/30/1974   \n",
      "3               195                   317877    04/16/2007   \n",
      "4               195                   317877    04/16/2007   \n",
      "\n",
      "   Age at Start of Reporting Period  Age Today  \\\n",
      "0                                47         50   \n",
      "1                                47         50   \n",
      "2                                47         50   \n",
      "3                                14         17   \n",
      "4                                14         17   \n",
      "\n",
      "  Is this a caregiver or client profile?  Gender        Ethnicity  \\\n",
      "0                            Caregiver 1  Female  Hispanic/Latino   \n",
      "1                            Caregiver 1  Female  Hispanic/Latino   \n",
      "2                            Caregiver 1  Female  Hispanic/Latino   \n",
      "3                                 Client    Male  Hispanic/Latino   \n",
      "4                                 Client    Male  Hispanic/Latino   \n",
      "\n",
      "  Date of Participation   Program Location  ... Max_Income_x Total Population  \\\n",
      "0            12/04/2024  CBC - San Antonio  ...          NaN          22914.0   \n",
      "1            12/04/2024  CBC - San Antonio  ...          NaN          22914.0   \n",
      "2            12/04/2024  CBC - San Antonio  ...          NaN          22914.0   \n",
      "3            04/18/2023  CBC - San Antonio  ...     100000.0          36169.0   \n",
      "4            04/18/2023  CBC - San Antonio  ...     100000.0          36169.0   \n",
      "\n",
      "  Poverty Rate    White   Black  Hispanic Extra_Column  \\\n",
      "0       5720.0  13746.0    68.0   20002.0      78214.0   \n",
      "1       5720.0  13746.0    68.0   20002.0      78214.0   \n",
      "2       5720.0  13746.0    68.0   20002.0      78214.0   \n",
      "3       3893.0  26926.0  2037.0   12888.0      78232.0   \n",
      "4       3893.0  26926.0  2037.0   12888.0      78232.0   \n",
      "\n",
      "  Annual Family Income_x_y Min_Income_y Max_Income_y  \n",
      "0           Income Unknown          NaN          NaN  \n",
      "1           Income Unknown          NaN          NaN  \n",
      "2           Income Unknown          NaN          NaN  \n",
      "3         $100,000 or more     100000.0     100000.0  \n",
      "4         $100,000 or more     100000.0     100000.0  \n",
      "\n",
      "[5 rows x 35 columns]\n"
     ]
    }
   ],
   "source": [
    "import pandas as pd\n",
    "import re\n",
    "\n",
    "# Keep df as the full dataset, work on a subset for Annual Family Income\n",
    "income_data = df[['Annual Family Income_x']].copy()  # Work on a copy, not overwrite df\n",
    "\n",
    "# Function to clean and split income data\n",
    "def clean_income(value):\n",
    "    value = str(value).replace(\"$\", \"\").replace(\",\", \"\").strip()  # Ensure it's a string first\n",
    "    range_match = re.match(r\"(\\d+)-(\\d+)\", value)\n",
    "    if range_match:\n",
    "        return int(range_match.group(1)), int(range_match.group(2))\n",
    "    \n",
    "    more_match = re.match(r\"(\\d+) or more\", value)\n",
    "    if more_match:\n",
    "        return int(more_match.group(1)), 100000  # Keep numeric\n",
    "\n",
    "    return None, None  # Handle unexpected values\n",
    "\n",
    "# Apply function to create min and max income columns\n",
    "income_data[[\"Min_Income\", \"Max_Income\"]] = income_data[\"Annual Family Income_x\"].apply(lambda x: pd.Series(clean_income(x)))\n",
    "\n",
    "# Convert Max_Income to numeric where possible\n",
    "income_data[\"Max_Income\"] = pd.to_numeric(income_data[\"Max_Income\"], errors=\"coerce\")\n",
    "\n",
    "# Merge income data back into the full dataset\n",
    "df = df.merge(income_data, left_index=True, right_index=True, how=\"left\")\n",
    "print(df.head())"
   ]
  },
  {
   "cell_type": "code",
   "execution_count": 7,
   "metadata": {},
   "outputs": [
    {
     "name": "stdout",
     "output_type": "stream",
     "text": [
      "ZIP codes cleaned successfully!\n"
     ]
    }
   ],
   "source": [
    "# Ensure ZIP column exists\n",
    "if 'Zip' not in df.columns:\n",
    "    raise ValueError(\"Error: 'Zip' column not found. Check column names.\")\n",
    "\n",
    "# Convert ZIP column to numeric and clean it\n",
    "df['Zip'] = pd.to_numeric(df['Zip'], errors='coerce')\n",
    "df = df.dropna(subset=['Zip'])\n",
    "df['Zip'] = df['Zip'].astype(int).astype(str)\n",
    "\n",
    "print(\"ZIP codes cleaned successfully!\")"
   ]
  },
  {
   "cell_type": "code",
   "execution_count": 8,
   "metadata": {},
   "outputs": [],
   "source": [
    "# Census API details\n",
    "BASE_URL = \"https://api.census.gov/data/2022/acs/acs5\"\n",
    "CENSUS_API_KEY = census_api_key  # Use the imported API key"
   ]
  },
  {
   "cell_type": "code",
   "execution_count": 9,
   "metadata": {},
   "outputs": [
    {
     "name": "stdout",
     "output_type": "stream",
     "text": [
      "Failed to fetch data for ZIP 78469\n",
      "Failed to fetch data for ZIP 78711\n"
     ]
    }
   ],
   "source": [
    "# Variables to fetch (example: population, poverty rate, ethnicity breakdown)\n",
    "census_vars = {\n",
    "    \"Total Population\": \"B01003_001E\",  # Total population\n",
    "    \"Poverty Rate\": \"B17001_002E\",  # Poverty rate\n",
    "    \"White\": \"B02001_002E\",  # White\n",
    "    \"Black\": \"B02001_003E\",  # Black or African American\n",
    "    \"Hispanic\": \"B03003_003E\",  # Hispanic or Latino\n",
    "    \"American Indian or Alaska Native\": \"B02001_004E\",  # American Indian or Alaska Native\n",
    "    \"Asian\": \"B02001_005E\",  # Asian\n",
    "    \"Native Hawaiian or Pacific Islander\": \"B02001_006E\",  # Native Hawaiian or Other Pacific Islander\n",
    "    \"Two or More Races\": \"B02001_007E\",  # Two or More Races\n",
    "    \"Children (Under 18)\": \"B09001_001E\"  # Total Population under 18 (children)\n",
    "}\n",
    "\n",
    "# Create a DataFrame to store Census data\n",
    "census_data = []\n",
    "\n",
    "# Fetch data for each ZIP code\n",
    "for zip_code in df['Zip'].unique():\n",
    "    params = {\n",
    "        \"get\": \",\".join(census_vars.values()),\n",
    "        \"for\": f\"zip code tabulation area:{zip_code}\",\n",
    "        \"key\": CENSUS_API_KEY\n",
    "    }\n",
    "    response = requests.get(BASE_URL, params=params)\n",
    "    if response.status_code == 200:\n",
    "        data = response.json()\n",
    "        values = data[1]  # First row contains headers, second row has values\n",
    "        census_data.append([zip_code] + values)\n",
    "    else:\n",
    "        print(f\"Failed to fetch data for ZIP {zip_code}\")"
   ]
  },
  {
   "cell_type": "code",
   "execution_count": 10,
   "metadata": {},
   "outputs": [
    {
     "name": "stdout",
     "output_type": "stream",
     "text": [
      "Number of columns in census_data: 12\n"
     ]
    }
   ],
   "source": [
    "# Check the number of columns in census_data\n",
    "print(f\"Number of columns in census_data: {len(census_data[0])}\")"
   ]
  },
  {
   "cell_type": "code",
   "execution_count": 11,
   "metadata": {},
   "outputs": [
    {
     "name": "stdout",
     "output_type": "stream",
     "text": [
      "census_columns length: 12\n",
      "Merged data saved. Ready for Tableau import!\n"
     ]
    }
   ],
   "source": [
    "# Ensure census_vars has the correct number of keys (6 keys)\n",
    "census_columns = [\"Zip\"] + list(census_vars.keys()) + [\"Extra_Column\"]  # This should now contain 7 columns in total\n",
    "print(f\"census_columns length: {len(census_columns)}\")  # Make sure it has 7 columns\n",
    "\n",
    "# Create DataFrame for Census data\n",
    "census_df = pd.DataFrame(census_data, columns=census_columns)\n",
    "\n",
    "# Merge with client data (df should have a 'Zip' column)\n",
    "df_merged = df.merge(census_df, on='Zip', how='left')\n",
    "\n",
    "# Save the merged data for Tableau import\n",
    "df_merged.to_csv(\"./resources/Cumulative Count of Clients-Final.csv\", index=False)\n",
    "\n",
    "# Print confirmation message\n",
    "print(\"Merged data saved. Ready for Tableau import!\")"
   ]
  }
 ],
 "metadata": {
  "kernelspec": {
   "display_name": "dev",
   "language": "python",
   "name": "python3"
  },
  "language_info": {
   "codemirror_mode": {
    "name": "ipython",
    "version": 3
   },
   "file_extension": ".py",
   "mimetype": "text/x-python",
   "name": "python",
   "nbconvert_exporter": "python",
   "pygments_lexer": "ipython3",
   "version": "3.10.14"
  }
 },
 "nbformat": 4,
 "nbformat_minor": 2
}
